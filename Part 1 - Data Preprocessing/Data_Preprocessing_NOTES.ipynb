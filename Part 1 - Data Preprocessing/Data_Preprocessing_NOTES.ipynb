{
  "nbformat": 4,
  "nbformat_minor": 0,
  "metadata": {
    "colab": {
      "name": "Data_Preprocessing.ipynb",
      "provenance": [],
      "collapsed_sections": []
    },
    "kernelspec": {
      "name": "python3",
      "display_name": "Python 3"
    }
  },
  "cells": [
    {
      "cell_type": "code",
      "metadata": {
        "id": "bQlnXRtJpbpq",
        "colab_type": "code",
        "outputId": "df305032-af0c-4336-c364-326678cdec68",
        "colab": {
          "base_uri": "https://localhost:8080/",
          "height": 51
        }
      },
      "source": [
        "cd drive/'My Drive'/'Machine Learning A to Z'/'Part 1 - Data Preprocessing'/"
      ],
      "execution_count": 0,
      "outputs": [
        {
          "output_type": "stream",
          "text": [
            "[Errno 2] No such file or directory: 'drive/My Drive/Machine Learning A to Z/Part 1 - Data Preprocessing/'\n",
            "/content/drive/My Drive/Machine Learning A to Z/Part 1 - Data Preprocessing\n"
          ],
          "name": "stdout"
        }
      ]
    },
    {
      "cell_type": "code",
      "metadata": {
        "id": "kEPXKOVxFF8W",
        "colab_type": "code",
        "outputId": "f20d0d6e-e097-4f4b-eb93-3daf6b641b59",
        "colab": {
          "base_uri": "https://localhost:8080/",
          "height": 187
        }
      },
      "source": [
        "ls"
      ],
      "execution_count": 0,
      "outputs": [
        {
          "output_type": "stream",
          "text": [
            " categorical_data.py\n",
            " categorical-data.py\n",
            " categorical_data.R\n",
            " Data.csv\n",
            " data_preprocessing_template.py\n",
            " data_preprocessing_template.R\n",
            " missing_data.py\n",
            " missing-data.py\n",
            " missing_data.R\n",
            "\u001b[0m\u001b[01;34m'Section 2 -------------------- Part 1 - Data Preprocessing --------------------'\u001b[0m\u001b[K/\n"
          ],
          "name": "stdout"
        }
      ]
    },
    {
      "cell_type": "code",
      "metadata": {
        "id": "ci5veirGdhrf",
        "colab_type": "code",
        "colab": {}
      },
      "source": [
        "import numpy as np\n",
        "import matplotlib.pyplot as plt\n",
        "import pandas as pd"
      ],
      "execution_count": 0,
      "outputs": []
    },
    {
      "cell_type": "code",
      "metadata": {
        "id": "XhQj5ypldxcV",
        "colab_type": "code",
        "colab": {}
      },
      "source": [
        "dataset = pd.read_csv('Data.csv')"
      ],
      "execution_count": 0,
      "outputs": []
    },
    {
      "cell_type": "code",
      "metadata": {
        "id": "nOvDJ4I0d_42",
        "colab_type": "code",
        "outputId": "f579be68-9c68-4d71-c870-d4b7f5efff97",
        "colab": {
          "base_uri": "https://localhost:8080/",
          "height": 204
        }
      },
      "source": [
        "print(dataset)"
      ],
      "execution_count": 0,
      "outputs": [
        {
          "output_type": "stream",
          "text": [
            "   Country   Age   Salary Purchased\n",
            "0   France  44.0  72000.0        No\n",
            "1    Spain  27.0  48000.0       Yes\n",
            "2  Germany  30.0  54000.0        No\n",
            "3    Spain  38.0  61000.0        No\n",
            "4  Germany  40.0      NaN       Yes\n",
            "5   France  35.0  58000.0       Yes\n",
            "6    Spain   NaN  52000.0        No\n",
            "7   France  48.0  79000.0       Yes\n",
            "8  Germany  50.0  83000.0        No\n",
            "9   France  37.0  67000.0       Yes\n"
          ],
          "name": "stdout"
        }
      ]
    },
    {
      "cell_type": "code",
      "metadata": {
        "id": "16KQqq7QeC-B",
        "colab_type": "code",
        "outputId": "41e3ab73-63cb-4d52-d6b8-1d6c58edf8fd",
        "colab": {
          "base_uri": "https://localhost:8080/",
          "height": 204
        }
      },
      "source": [
        "x = dataset.iloc[:, :-1].values\n",
        "y = dataset.iloc[:, 3].values\n",
        "print(x)\n",
        "print(y)"
      ],
      "execution_count": 0,
      "outputs": [
        {
          "output_type": "stream",
          "text": [
            "[['France' 44.0 72000.0]\n",
            " ['Spain' 27.0 48000.0]\n",
            " ['Germany' 30.0 54000.0]\n",
            " ['Spain' 38.0 61000.0]\n",
            " ['Germany' 40.0 nan]\n",
            " ['France' 35.0 58000.0]\n",
            " ['Spain' nan 52000.0]\n",
            " ['France' 48.0 79000.0]\n",
            " ['Germany' 50.0 83000.0]\n",
            " ['France' 37.0 67000.0]]\n",
            "['No' 'Yes' 'No' 'No' 'Yes' 'Yes' 'No' 'Yes' 'No' 'Yes']\n"
          ],
          "name": "stdout"
        }
      ]
    },
    {
      "cell_type": "code",
      "metadata": {
        "id": "v0AwF4-fflej",
        "colab_type": "code",
        "colab": {}
      },
      "source": [
        "from sklearn.impute import SimpleImputer"
      ],
      "execution_count": 0,
      "outputs": []
    },
    {
      "cell_type": "code",
      "metadata": {
        "id": "_CjYqkC6iqjw",
        "colab_type": "code",
        "colab": {}
      },
      "source": [
        "imputer = SimpleImputer(missing_values=np.nan, strategy='mean')"
      ],
      "execution_count": 0,
      "outputs": []
    },
    {
      "cell_type": "code",
      "metadata": {
        "id": "iSiJgPHlkOK6",
        "colab_type": "code",
        "colab": {}
      },
      "source": [
        "imputer = imputer.fit(x[:, 1:3])"
      ],
      "execution_count": 0,
      "outputs": []
    },
    {
      "cell_type": "code",
      "metadata": {
        "id": "YY-Y1mSdlsAz",
        "colab_type": "code",
        "colab": {}
      },
      "source": [
        "x[:, 1:3] = imputer.transform(x[:, 1:3])"
      ],
      "execution_count": 0,
      "outputs": []
    },
    {
      "cell_type": "code",
      "metadata": {
        "id": "xVJyWg78n_VF",
        "colab_type": "code",
        "outputId": "2ab187d7-cda3-432f-91f8-bf9b7f248eb6",
        "colab": {
          "base_uri": "https://localhost:8080/",
          "height": 187
        }
      },
      "source": [
        "print(x)"
      ],
      "execution_count": 0,
      "outputs": [
        {
          "output_type": "stream",
          "text": [
            "[['France' 44.0 72000.0]\n",
            " ['Spain' 27.0 48000.0]\n",
            " ['Germany' 30.0 54000.0]\n",
            " ['Spain' 38.0 61000.0]\n",
            " ['Germany' 40.0 63777.77777777778]\n",
            " ['France' 35.0 58000.0]\n",
            " ['Spain' 38.77777777777778 52000.0]\n",
            " ['France' 48.0 79000.0]\n",
            " ['Germany' 50.0 83000.0]\n",
            " ['France' 37.0 67000.0]]\n"
          ],
          "name": "stdout"
        }
      ]
    },
    {
      "cell_type": "markdown",
      "metadata": {
        "id": "RfppxxiJzH-U",
        "colab_type": "text"
      },
      "source": [
        "Encoding Categorical Data\n",
        "1. Encoding the Independent Variable"
      ]
    },
    {
      "cell_type": "code",
      "metadata": {
        "id": "TmHwXeQ4oBhb",
        "colab_type": "code",
        "colab": {}
      },
      "source": [
        "from sklearn.preprocessing import OneHotEncoder\n",
        "from sklearn.compose import ColumnTransformer\n",
        "from sklearn.preprocessing import LabelEncoder"
      ],
      "execution_count": 0,
      "outputs": []
    },
    {
      "cell_type": "markdown",
      "metadata": {
        "id": "_JF32kE5sFFu",
        "colab_type": "text"
      },
      "source": [
        "To Understand why the following code is no longer working for categorical purposes. Visit [this](https://towardsdatascience.com/columntransformer-in-scikit-for-labelencoding-and-onehotencoding-in-machine-learning-c6255952731b) link. That will clarify \"Use ColumnTransformer in SciKit instead of LabelEncoding and OneHotEncoding for data preprocessing in Machine Learning\""
      ]
    },
    {
      "cell_type": "code",
      "metadata": {
        "id": "YDD9GjsTnqVc",
        "colab_type": "code",
        "outputId": "cefbc603-9e97-45d8-8730-5733c809f933",
        "colab": {
          "base_uri": "https://localhost:8080/",
          "height": 187
        }
      },
      "source": [
        "#labelencoder_X = LabelEncoder()\n",
        "#X[:, 0] = labelencoder_X.fit_transform(X[:, 0])\n",
        "#onehotencoder = OneHotEncoder(categorical_features = [0])\n",
        "#X = onehotencoder.fit_transform(X).toarray()\n",
        "# Encoding the Dependent Variable\n",
        "#labelencoder_y = LabelEncoder()\n",
        "#y = labelencoder_y.fit_transform(y)\n",
        "ct = ColumnTransformer([('encoder', OneHotEncoder(), [0])], remainder='passthrough')\n",
        "x = np.array(ct.fit_transform(x), dtype=np.float)\n",
        "print(x.astype(int))"
      ],
      "execution_count": 0,
      "outputs": [
        {
          "output_type": "stream",
          "text": [
            "[[    1     0     0    44 72000]\n",
            " [    0     0     1    27 48000]\n",
            " [    0     1     0    30 54000]\n",
            " [    0     0     1    38 61000]\n",
            " [    0     1     0    40 63777]\n",
            " [    1     0     0    35 58000]\n",
            " [    0     0     1    38 52000]\n",
            " [    1     0     0    48 79000]\n",
            " [    0     1     0    50 83000]\n",
            " [    1     0     0    37 67000]]\n"
          ],
          "name": "stdout"
        }
      ]
    },
    {
      "cell_type": "code",
      "metadata": {
        "id": "Ml7WbOai7KTV",
        "colab_type": "code",
        "outputId": "6721933c-569b-457a-d6ce-e7f890de9114",
        "colab": {
          "base_uri": "https://localhost:8080/",
          "height": 34
        }
      },
      "source": [
        "y = LabelEncoder().fit_transform(y)\n",
        "print(y)"
      ],
      "execution_count": 0,
      "outputs": [
        {
          "output_type": "stream",
          "text": [
            "[0 1 0 0 1 1 0 1 0 1]\n"
          ],
          "name": "stdout"
        }
      ]
    },
    {
      "cell_type": "code",
      "metadata": {
        "id": "BmBluGpQxSfa",
        "colab_type": "code",
        "outputId": "1faffb58-132a-4d10-c06c-f3474acb2b08",
        "colab": {
          "base_uri": "https://localhost:8080/",
          "height": 187
        }
      },
      "source": [
        "from sklearn.model_selection import train_test_split\n",
        "x_train, x_test, y_train, y_test = train_test_split(x, y, test_size = 0.2, random_state = 0)\n",
        "print(x_train.astype(int), y_train.astype(int))\n",
        "print(x_test.astype(int), y_test.astype(int))"
      ],
      "execution_count": 0,
      "outputs": [
        {
          "output_type": "stream",
          "text": [
            "[[    0     1     0    40 63777]\n",
            " [    1     0     0    37 67000]\n",
            " [    0     0     1    27 48000]\n",
            " [    0     0     1    38 52000]\n",
            " [    1     0     0    48 79000]\n",
            " [    0     0     1    38 61000]\n",
            " [    1     0     0    44 72000]\n",
            " [    1     0     0    35 58000]] [1 1 1 0 1 0 0 1]\n",
            "[[    0     1     0    30 54000]\n",
            " [    0     1     0    50 83000]] [0 0]\n"
          ],
          "name": "stdout"
        }
      ]
    },
    {
      "cell_type": "markdown",
      "metadata": {
        "id": "GIYfDWzk2-Oa",
        "colab_type": "text"
      },
      "source": [
        "As we can see in the salary and age section. Values have significant difference between each other. So, mostly in euclidean distancing. root((x2^2-x1^2) - (y2^2 - y1^2)) salary square values will dominate and hence eliminate the worthfulness of age column. So, we require **Feature Scaling**. This brings all columns on the same ground. Sometimes we even need to feature scale dependant variable when we find a huge range. Besides problems based on euclidean distancing, we still require scaling because it plays a huge role fast calculation. There are two ways for feature scaling. \n",
        "1. Standardisation. (x - mean(x))/standard deviation(x)\n",
        "2. Normalisation. (x - min(x))/(max(x) - min(x))"
      ]
    },
    {
      "cell_type": "code",
      "metadata": {
        "id": "kzKh4Gv9x400",
        "colab_type": "code",
        "outputId": "c86c4af0-7c3f-4a5f-bc23-89e4d3bc6071",
        "colab": {
          "base_uri": "https://localhost:8080/",
          "height": 314
        }
      },
      "source": [
        "from sklearn.preprocessing import StandardScaler\n",
        "sc_x = StandardScaler()\n",
        "x_train = sc_x.fit_transform(x_train) #you need to both fit and transform here. \n",
        "x_test = sc_x.transform(x_test)\n",
        "#HERE WE DO NOT REQUIRE TO FEATURE SCALE y_train and y_test AS IT'S DEPENDANT VARIABLE WITH JUST TWO VALUES 0 AND 1 (NOT MUCH HUGE VARYING RANGE.)\n",
        "x_train_pd = pd.DataFrame(data=x_train, index=None, columns=None)\n",
        "x_test_pd = pd.DataFrame(data=x_test, index=None, columns=None)\n",
        "x_train_pd.describe()\n",
        "print()\n",
        "x_test_pd.describe()"
      ],
      "execution_count": 0,
      "outputs": [
        {
          "output_type": "stream",
          "text": [
            "\n"
          ],
          "name": "stdout"
        },
        {
          "output_type": "execute_result",
          "data": {
            "text/html": [
              "<div>\n",
              "<style scoped>\n",
              "    .dataframe tbody tr th:only-of-type {\n",
              "        vertical-align: middle;\n",
              "    }\n",
              "\n",
              "    .dataframe tbody tr th {\n",
              "        vertical-align: top;\n",
              "    }\n",
              "\n",
              "    .dataframe thead th {\n",
              "        text-align: right;\n",
              "    }\n",
              "</style>\n",
              "<table border=\"1\" class=\"dataframe\">\n",
              "  <thead>\n",
              "    <tr style=\"text-align: right;\">\n",
              "      <th></th>\n",
              "      <th>0</th>\n",
              "      <th>1</th>\n",
              "      <th>2</th>\n",
              "      <th>3</th>\n",
              "      <th>4</th>\n",
              "    </tr>\n",
              "  </thead>\n",
              "  <tbody>\n",
              "    <tr>\n",
              "      <th>count</th>\n",
              "      <td>2.0</td>\n",
              "      <td>2.000000</td>\n",
              "      <td>2.000000</td>\n",
              "      <td>2.000000</td>\n",
              "      <td>2.000000</td>\n",
              "    </tr>\n",
              "    <tr>\n",
              "      <th>mean</th>\n",
              "      <td>-1.0</td>\n",
              "      <td>2.645751</td>\n",
              "      <td>-0.774597</td>\n",
              "      <td>0.263068</td>\n",
              "      <td>0.619074</td>\n",
              "    </tr>\n",
              "    <tr>\n",
              "      <th>std</th>\n",
              "      <td>0.0</td>\n",
              "      <td>0.000000</td>\n",
              "      <td>0.000000</td>\n",
              "      <td>2.435130</td>\n",
              "      <td>2.150647</td>\n",
              "    </tr>\n",
              "    <tr>\n",
              "      <th>min</th>\n",
              "      <td>-1.0</td>\n",
              "      <td>2.645751</td>\n",
              "      <td>-0.774597</td>\n",
              "      <td>-1.458829</td>\n",
              "      <td>-0.901663</td>\n",
              "    </tr>\n",
              "    <tr>\n",
              "      <th>25%</th>\n",
              "      <td>-1.0</td>\n",
              "      <td>2.645751</td>\n",
              "      <td>-0.774597</td>\n",
              "      <td>-0.597881</td>\n",
              "      <td>-0.141295</td>\n",
              "    </tr>\n",
              "    <tr>\n",
              "      <th>50%</th>\n",
              "      <td>-1.0</td>\n",
              "      <td>2.645751</td>\n",
              "      <td>-0.774597</td>\n",
              "      <td>0.263068</td>\n",
              "      <td>0.619074</td>\n",
              "    </tr>\n",
              "    <tr>\n",
              "      <th>75%</th>\n",
              "      <td>-1.0</td>\n",
              "      <td>2.645751</td>\n",
              "      <td>-0.774597</td>\n",
              "      <td>1.124016</td>\n",
              "      <td>1.379442</td>\n",
              "    </tr>\n",
              "    <tr>\n",
              "      <th>max</th>\n",
              "      <td>-1.0</td>\n",
              "      <td>2.645751</td>\n",
              "      <td>-0.774597</td>\n",
              "      <td>1.984964</td>\n",
              "      <td>2.139811</td>\n",
              "    </tr>\n",
              "  </tbody>\n",
              "</table>\n",
              "</div>"
            ],
            "text/plain": [
              "         0         1         2         3         4\n",
              "count  2.0  2.000000  2.000000  2.000000  2.000000\n",
              "mean  -1.0  2.645751 -0.774597  0.263068  0.619074\n",
              "std    0.0  0.000000  0.000000  2.435130  2.150647\n",
              "min   -1.0  2.645751 -0.774597 -1.458829 -0.901663\n",
              "25%   -1.0  2.645751 -0.774597 -0.597881 -0.141295\n",
              "50%   -1.0  2.645751 -0.774597  0.263068  0.619074\n",
              "75%   -1.0  2.645751 -0.774597  1.124016  1.379442\n",
              "max   -1.0  2.645751 -0.774597  1.984964  2.139811"
            ]
          },
          "metadata": {
            "tags": []
          },
          "execution_count": 30
        }
      ]
    },
    {
      "cell_type": "code",
      "metadata": {
        "id": "s5P0XO6N7k42",
        "colab_type": "code",
        "colab": {}
      },
      "source": [
        ""
      ],
      "execution_count": 0,
      "outputs": []
    }
  ]
}